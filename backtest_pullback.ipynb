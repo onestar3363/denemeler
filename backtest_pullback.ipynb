import pandas as pd
import yfinance as yf
import datetime

start_date = '2020-01-12'
end_date = '2023-01-11'
#df=yf.download('BTC-USD',start_date, end_date,interval='1d',auto_adjust=True )
data=yf.download('GC=F',period="3y",interval='1d',auto_adjust=True)
#df["Date"]=pd.to_datetime(df["Date"],unit="ms")
#df.set_index("Date",inplace=False)

import datetime
import pandas_ta as pa
import pandas as pd
import numpy as np
from backtesting import Backtest
from backtesting.lib import crossover, TrailingStrategy
from backtesting import Strategy
from backtesting.test import GOOG
from backtesting.lib import resample_apply
import ta
  
class Deneme(TrailingStrategy):

    length=20
    def init(self):
        
        super().init()
        super().set_trailing_sl(1)

        self.suptr=self.I(pa.supertrend,self.data.High.s,self.data.Low.s,
                        self.data.Close.s, length=10, multiplier=1,overlay=True,plot=True)
        self.suptr2=self.I(pa.supertrend,self.data.High.s,self.data.Low.s,
                        self.data.Close.s, length=10, multiplier=2,overlay=True,plot=False)
        self.suptr3=self.I(pa.supertrend,self.data.High.s,self.data.Low.s,
                        self.data.Close.s, length=10, multiplier=3,overlay=True,scatter=True,plot=False)
        #self.ema20 = self.I(pa.ema,self.data.Close.s, length=20)
        self.ema20 = self.I(pa.ema, self.data.Close.s , self.length)
        self.ema50 = self.I(pa.ema,self.data.Close.s, 50)
        #self.ema100 = self.I(pa.ema,self.data.Close.s, 100)
        self.ema200 = self.I(pa.ema,self.data.Close.s, 200)

        
    def next(self):
        super().next()
        sup=self.suptr[0]
        sup2=self.suptr2[0]
        sup3=self.suptr3[0]
        price=self.data.Close.s[-1]
        low=self.data.Low.s[-1]
        price2=self.data.Close.s[-2]
        price3=self.data.Close.s[-3]
        low2=self.data.Low.s[-2]
        ema20=self.ema20[-1]
        ema20_2=self.ema20[-2]
        ema50=self.ema50
        ema200=self.ema200
        # If sma1 crosses above sma2, close any existing
        # short trades, and buy the asset
        if  price3>price2 and low2<sup[-2] and price2>sup[-2] and price>sup[-1] and price>price2 and price>ema50\
            and price>sup3:
                #price3>price2 and low2<sup[-2] and price>sup[-1] and price>price2 and price>ema50
                #self.position.close()
                self.buy()
        # Else, if sma1 crosses below sma2, closeSany existing
        # long trades, and sell the asset
        #elif crossover(self.ema20,self.data.Close.s):
            #self.data.Close.s[-2]>self.ema20[-2] and self.data.Close.s[-1]<self.ema20[-1]:
            #self.position.close()
        #   #self.sell()
bt = Backtest(data, Deneme, cash=10_000, commission=.002)
stats = bt.run()
bt.plot(plot_volume=False, plot_pl=True,plot_equity=False)
stats
